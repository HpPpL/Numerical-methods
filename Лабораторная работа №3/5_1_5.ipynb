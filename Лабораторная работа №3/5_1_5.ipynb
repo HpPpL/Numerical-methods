{
 "cells": [
  {
   "cell_type": "code",
   "execution_count": 10,
   "metadata": {
    "collapsed": true
   },
   "outputs": [
    {
     "name": "stdout",
     "output_type": "stream",
     "text": [
      "Вектор при решении методом Гаусса: x_gauss = array([-1.05050505, -2.8       , -3.1       ,  3.21212121, -1.5       ])\n",
      "Решение найдено точно, так как A * x_gauss = b:\n",
      "A * x_gauss = [40.2 91.5 93.4 84.7 -1.5]\n",
      "b = [40.2 91.5 93.4 84.7 -1.5] \n",
      "\n",
      "Бесконечная норма матрицы B: infinity_norm(B) =0.9828282828282828\n",
      "Решение методом Зейделя для 10 итераций:\n",
      "[-1.0482449  -2.79592489 -3.09601725  3.20888217 -1.49743923]\n",
      "Величина абсолютной погрешности итерационного решения: 0.004075107647673715\n"
     ]
    }
   ],
   "source": [
    "import numpy as np\n",
    "\n",
    "# Задание матрицы A и вектора b в явном виде\n",
    "A = np.array([\n",
    "    [99, 28, 0, 69.3, 0],\n",
    "    [49.5, -94, 3, -29.7, 10],\n",
    "    [39.6, 24, -96, -29.7, 0],\n",
    "    [29.7, 24, 23, 79.2, 0],\n",
    "    [69.3, 0, 21, -3.3, -98]\n",
    "])\n",
    "b = np.array([40.2, 91.5, 93.4, 84.7, -1.5])\n",
    "\n",
    "# Функция приведения матрицы A к верхнетреугольному виду (Метод Гаусса)\n",
    "def gaussian_elimination(A: np.ndarray, b: np.ndarray):\n",
    "    n = A.shape[0]\n",
    "    for i in range(n):\n",
    "        for j in range(i + 1, n):\n",
    "            factor = A[j, i] / A[i, i]\n",
    "            b[j] -= factor * b[i]\n",
    "            A[j] -= factor * A[i]\n",
    "    return A, b\n",
    "\n",
    "# Решение системы с помощью метода Гаусса\n",
    "def solve_gaussian(A: np.ndarray, b: np.ndarray):\n",
    "    A_upper, b_upper = gaussian_elimination(A.copy(), b.copy())\n",
    "    n = A.shape[0]\n",
    "    x = np.zeros(n)\n",
    "    x[-1] = b_upper[-1] / A_upper[-1, -1]\n",
    "    for i in range(n - 2, -1, -1):\n",
    "        x[i] = (b_upper[i] - np.dot(A_upper[i, i+1:], x[i+1:])) / A_upper[i, i]\n",
    "    return x\n",
    "\n",
    "x_gauss = solve_gaussian(A, b)\n",
    "print(f'Вектор при решении методом Гаусса: {x_gauss = }')\n",
    "if np.allclose(np.dot(A, x_gauss), b):\n",
    "    print('Решение найдено точно, так как A * x_gauss = b:')\n",
    "    print(f'A * x_gauss = {np.dot(A, x_gauss)}')\n",
    "    print(f'b = {b} \\n')\n",
    "\n",
    "# Норма бесконечности\n",
    "def infinity_norm(matrix):\n",
    "    return max(np.sum(np.abs(matrix), axis=1))\n",
    "\n",
    "# Преобразование системы для метода Зейделя\n",
    "def seidel_transformation(A, b):\n",
    "    n = A.shape[0]\n",
    "    B = np.zeros_like(A)\n",
    "    c = np.zeros_like(b)\n",
    "    for i in range(n):\n",
    "        B[i] = -A[i] / A[i, i]\n",
    "        B[i, i] = 0\n",
    "        c[i] = b[i] / A[i, i]\n",
    "    return B, c\n",
    "\n",
    "# Метод Зейделя\n",
    "def seidel_method(B, c, x0, iterations=10):\n",
    "    x = x0.copy()\n",
    "    for _ in range(iterations):\n",
    "        x_new = x.copy()\n",
    "        for i in range(len(B)):\n",
    "            x_new[i] = np.dot(B[i], x_new) + c[i]\n",
    "        x = x_new\n",
    "    return x\n",
    "\n",
    "B, c = seidel_transformation(A, b)\n",
    "print(f'Бесконечная норма матрицы B: {infinity_norm(B) =}')\n",
    "x_seidel = seidel_method(B, c, np.zeros(len(b)))\n",
    "print(f'Решение методом Зейделя для 10 итераций:\\n{x_seidel}')\n",
    "\n",
    "# # Второе начальное приближение (размер вектора должен быть 5)\n",
    "# x_seidel_new = seidel_method(B, c, np.array([0, 0, 0, 0, 0]))\n",
    "# print(f'Решение с другим начальным приближением:\\n{x_seidel_new}')\n",
    "\n",
    "# Величина абсолютной погрешности итерационного решения\n",
    "error = np.max(np.abs(x_seidel - x_gauss))\n",
    "print(f'Величина абсолютной погрешности итерационного решения: {error}')\n"
   ]
  },
  {
   "cell_type": "code",
   "execution_count": null,
   "outputs": [],
   "source": [],
   "metadata": {
    "collapsed": false,
    "pycharm": {
     "name": "#%%\n"
    }
   }
  }
 ],
 "metadata": {
  "kernelspec": {
   "display_name": "Python 3",
   "language": "python",
   "name": "python3"
  },
  "language_info": {
   "codemirror_mode": {
    "name": "ipython",
    "version": 2
   },
   "file_extension": ".py",
   "mimetype": "text/x-python",
   "name": "python",
   "nbconvert_exporter": "python",
   "pygments_lexer": "ipython2",
   "version": "2.7.6"
  }
 },
 "nbformat": 4,
 "nbformat_minor": 0
}