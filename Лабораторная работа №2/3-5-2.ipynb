{
 "cells": [
  {
   "cell_type": "code",
   "execution_count": 1,
   "metadata": {
    "collapsed": true
   },
   "outputs": [
    {
     "name": "stdout",
     "output_type": "stream",
     "text": [
      "Решение системы уравнений:\n",
      "[ 2.13216095  2.6630651   3.19266488  3.72096508  4.24797048  4.77368584\n",
      "  5.29811588  5.82126532  6.34313883  6.86374109  7.38307673  7.90115037\n",
      "  8.4179666   8.93352999  9.4478451   9.96091645 10.47274855 10.98334589\n",
      " 11.49271292 12.00085408]\n"
     ]
    }
   ],
   "source": [
    "import numpy as np\n",
    "import matplotlib.pyplot as plt\n",
    "\n",
    "# Определяем функцию cholesky для разложения Холецкого\n",
    "def cholesky(A):\n",
    "    n = A.shape[0]\n",
    "    L = np.zeros_like(A)\n",
    "\n",
    "    # Проходим по строкам матрицы\n",
    "    for i in range(n):\n",
    "        # Проходим по столбцам до диагонали включительно\n",
    "        for j in range(i+1):\n",
    "            sumk = np.dot(L[i, :j], L[j, :j])\n",
    "            if (i == j): # Диагональные элементы\n",
    "                L[i, j] = np.sqrt(A[i, i] - sumk)\n",
    "            else:\n",
    "                L[i, j] = (A[i, j] - sumk) / L[j, j]\n",
    "    return L\n",
    "\n",
    "# Определяем функцию для решения системы уравнений с помощью разложения Холецкого\n",
    "def cholesky_solve(A, b):\n",
    "    L = cholesky(A)\n",
    "\n",
    "    # Прямая подстановка для решения L * y = b\n",
    "    y = np.linalg.solve(L, b)\n",
    "\n",
    "    # Обратная подстановка для решения L.T * x = y\n",
    "    x = np.linalg.solve(L.T, y)\n",
    "    return x\n",
    "\n",
    "# Создание матрицы A и вектора b согласно вашему варианту\n",
    "def create_system(n, m):\n",
    "    A = np.zeros((n, n))\n",
    "    b = np.zeros(n)\n",
    "\n",
    "    for i in range(n):\n",
    "        b[i] = round(200 + 50 * (i + 1), m) # Округление до m знаков после запятой\n",
    "        for j in range(n):\n",
    "            if i != j:\n",
    "                A[i, j] = round((i + 1 + j + 1) / (m + n), m)\n",
    "            else:\n",
    "                A[i, j] = round((n + m**2 + (j + 1) / m + (i + 1) / n), m)\n",
    "\n",
    "    return A, b\n",
    "\n",
    "# Заданные параметры\n",
    "n = 20  # Размер системы\n",
    "m = 8   # Количество знаков после запятой для округления\n",
    "\n",
    "# Создание системы уравнений\n",
    "A, b = create_system(n, m)\n",
    "\n",
    "# Решение системы уравнений с помощью метода Холецкого\n",
    "x = cholesky_solve(A, b)\n",
    "\n",
    "# Выводим решение\n",
    "print(\"Решение системы уравнений:\")\n",
    "print(x)\n"
   ]
  },
  {
   "cell_type": "code",
   "execution_count": null,
   "outputs": [],
   "source": [],
   "metadata": {
    "collapsed": false,
    "pycharm": {
     "name": "#%%\n"
    }
   }
  }
 ],
 "metadata": {
  "kernelspec": {
   "display_name": "Python 3",
   "language": "python",
   "name": "python3"
  },
  "language_info": {
   "codemirror_mode": {
    "name": "ipython",
    "version": 2
   },
   "file_extension": ".py",
   "mimetype": "text/x-python",
   "name": "python",
   "nbconvert_exporter": "python",
   "pygments_lexer": "ipython2",
   "version": "2.7.6"
  }
 },
 "nbformat": 4,
 "nbformat_minor": 0
}