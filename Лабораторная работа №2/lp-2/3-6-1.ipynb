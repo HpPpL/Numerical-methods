{
 "cells": [
  {
   "cell_type": "code",
   "execution_count": 1,
   "metadata": {
    "collapsed": true
   },
   "outputs": [
    {
     "name": "stdout",
     "output_type": "stream",
     "text": [
      "Решения для t = 0.0001:\n",
      "Первые 5 элементов: [196557.102989 188757.466393 180942.425892 173112.58556  165267.64336 ]\n",
      "Последние 5 элементов: [-167982.58472  -176366.663612 -184761.313812 -193167.139394\n",
      " -201583.536283]\n",
      "Решения для t = 1:\n",
      "Первые 5 элементов: [20.354471 19.569546 18.783117 17.995241 17.205891]\n",
      "Последние 5 элементов: [-16.291178 -17.133186 -17.976226 -18.820358 -19.665522]\n",
      "Решения для t = 10000:\n",
      "Первые 5 элементов: [0.004952 0.004853 0.004754 0.004654 0.004555]\n",
      "Последние 5 элементов: [4.87e-04 3.88e-04 2.89e-04 1.90e-04 9.00e-05]\n"
     ]
    }
   ],
   "source": [
    "import numpy as np\n",
    "\n",
    "def round_to_m_digits(number, m):\n",
    "    \"\"\"\n",
    "    Округляет число до m знаков после запятой.\n",
    "    \"\"\"\n",
    "    return round(number, m)\n",
    "\n",
    "def gaussian_elimination_with_partial_pivoting(A, b):\n",
    "    n = len(b)\n",
    "\n",
    "    # Прямой ход\n",
    "    for k in range(n-1):\n",
    "        # Поиск опорного элемента в k-м столбце\n",
    "        maxindex = abs(A[k:,k]).argmax() + k\n",
    "        if A[maxindex, k] == 0:\n",
    "            raise ValueError(\"Матрица вырождена.\")\n",
    "        # Перестановка строк\n",
    "        if maxindex != k:\n",
    "            A[[k,maxindex]] = A[[maxindex, k]]\n",
    "            b[[k,maxindex]] = b[[maxindex, k]]\n",
    "        # Обнуление элементов в k-м столбце ниже опорного\n",
    "        for row in range(k+1, n):\n",
    "            multiplier = A[row][k]/A[k][k]\n",
    "            A[row][k] = 0\n",
    "            A[row][k+1:] = A[row][k+1:] - multiplier*A[k][k+1:]\n",
    "            b[row] = b[row] - multiplier*b[k]\n",
    "\n",
    "    # Обратный ход\n",
    "    x = np.zeros(n)\n",
    "    for k in range(n-1, -1, -1):\n",
    "        x[k] = (b[k] - np.dot(A[k][k+1:], x[k+1:])) / A[k][k]\n",
    "    return x\n",
    "\n",
    "def calculate_elements(n, M, m, t):\n",
    "    \"\"\"\n",
    "    Вычисляет элементы матрицы A и вектора b для заданных параметров,\n",
    "    с округлением до m знаков после запятой.\n",
    "    \"\"\"\n",
    "    # Вычисление q на основе M\n",
    "    q = 0.993 + ((-1)**M) * M * 10**(-4)\n",
    "    q = round_to_m_digits(q, m)  # Округление q до m знаков после запятой\n",
    "\n",
    "    # Инициализация матрицы A и вектора b\n",
    "    A = np.zeros((n, n))\n",
    "    b = np.zeros(n)\n",
    "\n",
    "    # Заполнение A и b соответствующими значениями, округленными до m знаков после запятой\n",
    "    for i in range(n):\n",
    "        for j in range(n):\n",
    "            A[i, j] = round_to_m_digits(q**(i+1), m) if i != j else round_to_m_digits(q**(i+1) + t, m)\n",
    "        b[i] = round_to_m_digits(q**M * (n - i), m)\n",
    "\n",
    "    return A, b\n",
    "\n",
    "# Параметры из задания\n",
    "n = 50  # Размер матрицы и вектора\n",
    "M = 1   # Задано в задаче\n",
    "m = 6   # Количество знаков после запятой для округления\n",
    "t_values = [0.0001, 1, 10000]  # Значения параметра t\n",
    "\n",
    "# Решение системы для каждого значения t и сохранение решений\n",
    "solutions = {}\n",
    "for t in t_values:\n",
    "    A, b = calculate_elements(n, M, m, t)\n",
    "    try:\n",
    "        solution = gaussian_elimination_with_partial_pivoting(A, b)\n",
    "        solution = np.around(solution, m)  # Округление вектора решений\n",
    "        solutions[t] = solution\n",
    "    except ValueError as e:\n",
    "        solutions[t] = str(e)\n",
    "\n",
    "# Вывод решений (показаны только первые и последние 5 элементов для краткости)\n",
    "for t in solutions:\n",
    "    print(f\"Решения для t = {t}:\")\n",
    "    print(\"Первые 5 элементов:\", solutions[t][:5])\n",
    "    print(\"Последние 5 элементов:\", solutions[t][-5:])\n"
   ]
  },
  {
   "cell_type": "code",
   "execution_count": null,
   "outputs": [],
   "source": [],
   "metadata": {
    "collapsed": false,
    "pycharm": {
     "name": "#%%\n"
    }
   }
  }
 ],
 "metadata": {
  "kernelspec": {
   "display_name": "Python 3",
   "language": "python",
   "name": "python3"
  },
  "language_info": {
   "codemirror_mode": {
    "name": "ipython",
    "version": 2
   },
   "file_extension": ".py",
   "mimetype": "text/x-python",
   "name": "python",
   "nbconvert_exporter": "python",
   "pygments_lexer": "ipython2",
   "version": "2.7.6"
  }
 },
 "nbformat": 4,
 "nbformat_minor": 0
}