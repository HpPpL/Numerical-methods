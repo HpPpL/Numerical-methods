{
 "cells": [
  {
   "cell_type": "code",
   "execution_count": 12,
   "outputs": [
    {
     "data": {
      "text/plain": "<Figure size 720x360 with 1 Axes>",
      "image/png": "[encoded data removed]"
     },
     "metadata": {
      "needs_background": "light"
     },
     "output_type": "display_data"
    },
    {
     "name": "stdout",
     "output_type": "stream",
     "text": [
      "Индекс компоненты с максимальной погрешностью: 6\n",
      "Это показывает, какая компонента вектора b наиболее влияет на погрешность решения системы уравнений.\n",
      "Относительные погрешности для каждой компоненты: [5.16849070e-04 2.08398507e-02 2.42893291e-01 1.18745150e+00\n",
      " 2.75035367e+00 2.98473187e+00 1.21925941e+00]\n",
      "Каждое значение в этом списке отражает изменение решения при модификации соответствующей компоненты вектора b на малую величину.\n",
      "Относительная погрешность решения, связанная с изменением компоненты b_6: 2.984731866731939\n",
      "Это значение демонстрирует, насколько изменится решение, если изменить m-ую компоненту вектора b.\n",
      "Относительное изменение компоненты b_6 из-за добавленной погрешности: 0.02\n",
      "Показывает процентное изменение m-ой компоненты вектора b.\n",
      "Число обусловленности матрицы A: 349605745.1544441\n",
      "Число обусловленности характеризует, насколько велика может быть погрешность решения при малых изменениях в данных.\n",
      "Теоретическая относительная погрешность решения для компоненты b_6, рассчитанная на основе числа обусловленности и относительного изменения в b_6: 6992114.903088883\n",
      "Это теоретическая оценка максимальной возможной погрешности решения, связанная с изменением компоненты b_{m}.\n",
      "Практическая относительная погрешность решения для b_6 <= теоретическая относительная погрешность решения\n",
      "Сравнение показывает, удовлетворяет ли наблюдаемая погрешность теоретической оценке.\n"
     ]
    }
   ],
   "source": [
    "import numpy as np\n",
    "import matplotlib.pyplot as plt\n",
    "\n",
    "# Функция для создания матрицы системы A\n",
    "def create_matrix(N, n):\n",
    "    C = np.fromfunction(lambda i, j: 0.1 * N * (i + 1) * (j + 1), (n, n), dtype=int)\n",
    "    A = 135 / (2 + 0.3 * C) ** 5\n",
    "    return A\n",
    "\n",
    "# Функция для вычисления относительных погрешностей\n",
    "def calculate_deltas(A, b, delta):\n",
    "    x = np.linalg.solve(A, b)\n",
    "    cond_value = np.linalg.cond(A, p=np.inf)\n",
    "    d = np.empty(n)\n",
    "    for i in range(n):\n",
    "        b_modified = b.copy()\n",
    "        b_modified[i] += delta\n",
    "        x_modified = np.linalg.solve(A, b_modified)\n",
    "        d[i] = np.linalg.norm(x - x_modified, ord=np.inf) / np.linalg.norm(x, ord=np.inf)\n",
    "    return d, cond_value\n",
    "\n",
    "# Используем параметры вашего варианта\n",
    "N, n = 5, 7\n",
    "delta = 0.1\n",
    "\n",
    "# Создание матрицы A и вектора правой части b\n",
    "A = create_matrix(N, n)\n",
    "b = np.full(n, N, dtype=float)\n",
    "\n",
    "# Решение системы и вычисление погрешностей\n",
    "d, cond_value = calculate_deltas(A, b, delta)\n",
    "\n",
    "# Построим гистограмму относительных погрешностей\n",
    "plt.figure(figsize=(10, 5))\n",
    "plt.bar(range(1, n+1), d, color='skyblue')\n",
    "plt.xlabel('Индекс компоненты вектора b')\n",
    "plt.ylabel('Относительная погрешность')\n",
    "plt.title('Гистограмма относительных погрешностей')\n",
    "plt.xticks(range(1, n+1))\n",
    "plt.grid(True)\n",
    "plt.show()\n",
    "\n",
    "# Индекс и значение максимальной погрешности\n",
    "m = np.argmax(d) + 1\n",
    "delta_xm = d[m - 1]\n",
    "delta_bm = delta / b[0]  # Все элементы b одинаковы\n",
    "\n",
    "# Рассчитываем теоретическую погрешность\n",
    "theoretical_delta = cond_value * delta_bm\n",
    "\n",
    "# Проверяем, удовлетворяет ли практическая погрешность теоретической\n",
    "cmp_sign = '<=' if delta_xm <= theoretical_delta else '>'\n",
    "\n",
    "# Вывод с пояснениями\n",
    "print(f\"Индекс компоненты с максимальной погрешностью: {m}\")\n",
    "print(\"Это показывает, какая компонента вектора b наиболее влияет на погрешность решения системы уравнений.\")\n",
    "print(f\"Относительные погрешности для каждой компоненты: {d}\")\n",
    "print(\"Каждое значение в этом списке отражает изменение решения при модификации соответствующей компоненты вектора b на малую величину.\")\n",
    "print(f\"Относительная погрешность решения, связанная с изменением компоненты b_{m}: {delta_xm}\")\n",
    "print(\"Это значение демонстрирует, насколько изменится решение, если изменить m-ую компоненту вектора b.\")\n",
    "print(f\"Относительное изменение компоненты b_{m} из-за добавленной погрешности: {delta_bm}\")\n",
    "print(\"Показывает процентное изменение m-ой компоненты вектора b.\")\n",
    "print(f\"Число обусловленности матрицы A: {cond_value}\")\n",
    "print(\"Число обусловленности характеризует, насколько велика может быть погрешность решения при малых изменениях в данных.\")\n",
    "print(f\"Теоретическая относительная погрешность решения для компоненты b_{m}, рассчитанная на основе числа обусловленности и относительного изменения в b_{m}: {theoretical_delta}\")\n",
    "print(\"Это теоретическая оценка максимальной возможной погрешности решения, связанная с изменением компоненты b_{m}.\")\n",
    "print(f\"Практическая относительная погрешность решения для b_{m} {cmp_sign} теоретическая относительная погрешность решения\")\n",
    "print(\"Сравнение показывает, удовлетворяет ли наблюдаемая погрешность теоретической оценке.\")\n",
    "\n"
   ],
   "metadata": {
    "collapsed": false,
    "pycharm": {
     "name": "#%%\n"
    }
   }
  },
  {
   "cell_type": "code",
   "execution_count": null,
   "outputs": [],
   "source": [],
   "metadata": {
    "collapsed": false,
    "pycharm": {
     "name": "#%%\n"
    }
   }
  }
 ],
 "metadata": {
  "kernelspec": {
   "display_name": "Python 3",
   "language": "python",
   "name": "python3"
  },
  "language_info": {
   "codemirror_mode": {
    "name": "ipython",
    "version": 2
   },
   "file_extension": ".py",
   "mimetype": "text/x-python",
   "name": "python",
   "nbconvert_exporter": "python",
   "pygments_lexer": "ipython2",
   "version": "2.7.6"
  }
 },
 "nbformat": 4,
 "nbformat_minor": 5
}